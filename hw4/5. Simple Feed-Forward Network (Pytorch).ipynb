{
 "cells": [
  {
   "cell_type": "code",
   "execution_count": 12,
   "metadata": {},
   "outputs": [
    {
     "name": "stdout",
     "output_type": "stream",
     "text": [
      "Populating the interactive namespace from numpy and matplotlib\n"
     ]
    },
    {
     "name": "stderr",
     "output_type": "stream",
     "text": [
      "C:\\Users\\46145\\anaconda3\\lib\\site-packages\\IPython\\core\\magics\\pylab.py:159: UserWarning: pylab import has clobbered these variables: ['test']\n",
      "`%matplotlib` prevents importing * from pylab and numpy\n",
      "  warn(\"pylab import has clobbered these variables: %s\"  % clobbered +\n"
     ]
    }
   ],
   "source": [
    "%pylab inline\n",
    "import numpy as np\n",
    "import torch\n",
    "import torch.nn as nn\n",
    "import torch.nn.functional as F\n",
    "import torch.utils.data.dataloader as dataloader\n",
    "import torch.optim as optim\n",
    "\n",
    "from torch.utils.data import TensorDataset\n",
    "from torch.autograd import Variable\n",
    "from torchvision import transforms\n",
    "from torchvision.datasets import MNIST\n",
    "import matplotlib.pyplot as plt"
   ]
  },
  {
   "cell_type": "code",
   "execution_count": 2,
   "metadata": {},
   "outputs": [],
   "source": [
    "train = MNIST('./data', train=True, download=True, transform=transforms.Compose([\n",
    "    transforms.ToTensor(), # ToTensor does min-max normalization. \n",
    "]), )\n",
    "\n",
    "test = MNIST('./data', train=False, download=True, transform=transforms.Compose([\n",
    "    transforms.ToTensor(), # ToTensor does min-max normalization. \n",
    "]), )\n",
    "\n",
    "# Create DataLoader\n",
    "dataloader_args = dict(shuffle=True, batch_size=64,num_workers=1, pin_memory=True)\n",
    "train_loader = dataloader.DataLoader(train, **dataloader_args)\n",
    "test_loader = dataloader.DataLoader(test, **dataloader_args)"
   ]
  },
  {
   "cell_type": "code",
   "execution_count": 3,
   "metadata": {},
   "outputs": [
    {
     "name": "stderr",
     "output_type": "stream",
     "text": [
      "C:\\Users\\46145\\anaconda3\\lib\\site-packages\\torchvision\\datasets\\mnist.py:62: UserWarning: train_data has been renamed data\n",
      "  warnings.warn(\"train_data has been renamed data\")\n"
     ]
    },
    {
     "name": "stdout",
     "output_type": "stream",
     "text": [
      "[Train]\n",
      " - Numpy Shape: (60000, 28, 28)\n",
      " - Tensor Shape: torch.Size([60000, 28, 28])\n",
      " - Transformed Shape: torch.Size([28, 60000, 28])\n",
      " - min: tensor(0.)\n",
      " - max: tensor(1.)\n",
      " - mean: tensor(0.1307)\n",
      " - std: tensor(0.3081)\n",
      " - var: tensor(0.0949)\n"
     ]
    }
   ],
   "source": [
    "train_data = train.train_data\n",
    "train_data = train.transform(train_data.numpy())\n",
    "\n",
    "print('[Train]')\n",
    "print(' - Numpy Shape:', train.train_data.cpu().numpy().shape)\n",
    "print(' - Tensor Shape:', train.train_data.size())\n",
    "print(' - Transformed Shape:', train_data.size())\n",
    "print(' - min:', torch.min(train_data))\n",
    "print(' - max:', torch.max(train_data))\n",
    "print(' - mean:', torch.mean(train_data))\n",
    "print(' - std:', torch.std(train_data))\n",
    "print(' - var:', torch.var(train_data))"
   ]
  },
  {
   "cell_type": "code",
   "execution_count": 7,
   "metadata": {},
   "outputs": [],
   "source": [
    "class Model(nn.Module):\n",
    "    def __init__(self):\n",
    "        super(Model, self).__init__()\n",
    "        \n",
    "        self.fc1 = nn.Linear(784, 300)\n",
    "        #self.bc1 = nn.BatchNorm1d(548)\n",
    "        \n",
    "        self.fc2 = nn.Linear(300, 10)\n",
    "        #self.bc2 = nn.BatchNorm1d(252)\n",
    "        \n",
    "        #self.fc3 = nn.Linear(252, 10)\n",
    "        \n",
    "        \n",
    "    def forward(self, x):\n",
    "        x = x.view((-1, 784))\n",
    "        h = self.fc1(x)\n",
    "        #h = self.bc1(h)\n",
    "        sh = F.sigmoid(h)\n",
    "        #h = F.dropout(h, p=0.5, training=self.training)\n",
    "        \n",
    "        z = self.fc2(sh)\n",
    "        #h = self.bc2(h)\n",
    "        #h = F.relu(h)\n",
    "        #h = F.dropout(h, p=0.2, training=self.training)\n",
    "        \n",
    "        #h = self.fc3(h)\n",
    "        out = F.softmax(h)\n",
    "        return out\n",
    "\n",
    "model = Model()\n",
    "model.cuda()\n",
    "optimizer = optim.Adam(model.parameters(), lr=0.001)"
   ]
  },
  {
   "cell_type": "markdown",
   "metadata": {},
   "source": [
    "## Train"
   ]
  },
  {
   "cell_type": "code",
   "execution_count": 8,
   "metadata": {},
   "outputs": [
    {
     "name": "stderr",
     "output_type": "stream",
     "text": [
      "C:\\Users\\46145\\anaconda3\\lib\\site-packages\\torch\\nn\\functional.py:1806: UserWarning: nn.functional.sigmoid is deprecated. Use torch.sigmoid instead.\n",
      "  warnings.warn(\"nn.functional.sigmoid is deprecated. Use torch.sigmoid instead.\")\n",
      "<ipython-input-7-6a6224c04aaa>:27: UserWarning: Implicit dimension choice for softmax has been deprecated. Change the call to include dim=X as an argument.\n",
      "  out = F.softmax(h)\n"
     ]
    },
    {
     "name": "stdout",
     "output_type": "stream",
     "text": [
      " Train Epoch: 0 [57664/60000 (96%)]\tLoss: 4.819601\n",
      " Train Epoch: 1 [57664/60000 (96%)]\tLoss: 4.849546\n",
      " Train Epoch: 2 [57664/60000 (96%)]\tLoss: 4.851287\n",
      " Train Epoch: 3 [57664/60000 (96%)]\tLoss: 4.781395\n",
      " Train Epoch: 4 [57664/60000 (96%)]\tLoss: 4.789785\n",
      " Train Epoch: 5 [57664/60000 (96%)]\tLoss: 4.780805\n",
      " Train Epoch: 6 [57664/60000 (96%)]\tLoss: 4.767251\n",
      " Train Epoch: 7 [57664/60000 (96%)]\tLoss: 4.780898\n",
      " Train Epoch: 8 [57664/60000 (96%)]\tLoss: 4.813853\n",
      " Train Epoch: 9 [57664/60000 (96%)]\tLoss: 4.749021\n",
      " Train Epoch: 10 [57664/60000 (96%)]\tLoss: 4.798348\n",
      " Train Epoch: 11 [57664/60000 (96%)]\tLoss: 4.788637\n",
      " Train Epoch: 12 [57664/60000 (96%)]\tLoss: 4.778802\n",
      " Train Epoch: 13 [57664/60000 (96%)]\tLoss: 4.758847\n",
      " Train Epoch: 14 [57664/60000 (96%)]\tLoss: 4.768726\n"
     ]
    }
   ],
   "source": [
    "model.train()\n",
    "\n",
    "losses = []\n",
    "for epoch in range(15):\n",
    "    for batch_idx, (data, target) in enumerate(train_loader):\n",
    "        # Get Samples\n",
    "        data, target = Variable(data.cuda()), Variable(target.cuda())\n",
    "        \n",
    "        # Init\n",
    "        optimizer.zero_grad()\n",
    "\n",
    "        # Predict\n",
    "        y_pred = model(data) \n",
    "\n",
    "        # Calculate loss\n",
    "        loss = F.cross_entropy(y_pred, target)\n",
    "        \n",
    "        #print(loss)\n",
    "        tmp = loss.item()\n",
    "        losses.append(tmp)\n",
    "        # Backpropagation\n",
    "        loss.backward()\n",
    "        optimizer.step()\n",
    "        \n",
    "        \n",
    "        # Display\n",
    "        if batch_idx % 100 == 1:\n",
    "            print('\\r Train Epoch: {} [{}/{} ({:.0f}%)]\\tLoss: {:.6f}'.format(\n",
    "                epoch, \n",
    "                batch_idx * len(data), \n",
    "                len(train_loader.dataset),\n",
    "                100. * batch_idx / len(train_loader), \n",
    "                loss.item()), \n",
    "                end='')\n",
    "            \n",
    "    print()"
   ]
  },
  {
   "cell_type": "code",
   "execution_count": 13,
   "metadata": {},
   "outputs": [
    {
     "data": {
      "text/plain": [
       "Text(0, 0.5, 'cross entropy loss')"
      ]
     },
     "execution_count": 13,
     "metadata": {},
     "output_type": "execute_result"
    },
    {
     "data": {
      "image/png": "[encoded data removed]",
      "text/plain": [
       "<Figure size 432x288 with 1 Axes>"
      ]
     },
     "metadata": {
      "needs_background": "light"
     },
     "output_type": "display_data"
    }
   ],
   "source": [
    "plt.plot(losses)\n",
    "\n",
    "plt.title(\"Learning curve\")\n",
    "plt.xlabel(\"Iterations\")\n",
    "plt.ylabel(\"cross entropy loss\")\n"
   ]
  },
  {
   "cell_type": "code",
   "execution_count": 10,
   "metadata": {},
   "outputs": [
    {
     "name": "stdout",
     "output_type": "stream",
     "text": [
      "Accuracy: tensor(0.9265)\n"
     ]
    },
    {
     "name": "stderr",
     "output_type": "stream",
     "text": [
      "C:\\Users\\46145\\anaconda3\\lib\\site-packages\\torchvision\\datasets\\mnist.py:67: UserWarning: test_data has been renamed data\n",
      "  warnings.warn(\"test_data has been renamed data\")\n",
      "C:\\Users\\46145\\anaconda3\\lib\\site-packages\\torchvision\\datasets\\mnist.py:57: UserWarning: test_labels has been renamed targets\n",
      "  warnings.warn(\"test_labels has been renamed targets\")\n",
      "<ipython-input-7-6a6224c04aaa>:27: UserWarning: Implicit dimension choice for softmax has been deprecated. Change the call to include dim=X as an argument.\n",
      "  out = F.softmax(h)\n"
     ]
    }
   ],
   "source": [
    "evaluate_x = Variable(test_loader.dataset.test_data.type_as(torch.FloatTensor())).cuda()\n",
    "evaluate_y = Variable(test_loader.dataset.test_labels).cuda()\n",
    "\n",
    "\n",
    "output = model(evaluate_x)\n",
    "pred = output.data.max(1)[1]\n",
    "d = pred.eq(evaluate_y.data).cpu()\n",
    "accuracy = d.sum()/d.size()[0]\n",
    "\n",
    "print('Accuracy:', accuracy)"
   ]
  },
  {
   "cell_type": "code",
   "execution_count": 20,
   "metadata": {},
   "outputs": [],
   "source": [
    "model0 = Model()\n",
    "nn.init.constant_(model0.fc1.weight, 0)\n",
    "nn.init.constant_(model0.fc1.bias, 0)\n",
    "nn.init.constant_(model0.fc2.weight, 0)\n",
    "nn.init.constant_(model0.fc2.bias, 0)\n",
    "model0.cuda()\n",
    "optimizer = optim.Adam(model0.parameters(), lr=0.001)"
   ]
  },
  {
   "cell_type": "code",
   "execution_count": 26,
   "metadata": {},
   "outputs": [
    {
     "name": "stderr",
     "output_type": "stream",
     "text": [
      "C:\\Users\\46145\\anaconda3\\lib\\site-packages\\torch\\nn\\functional.py:1806: UserWarning: nn.functional.sigmoid is deprecated. Use torch.sigmoid instead.\n",
      "  warnings.warn(\"nn.functional.sigmoid is deprecated. Use torch.sigmoid instead.\")\n",
      "<ipython-input-7-6a6224c04aaa>:27: UserWarning: Implicit dimension choice for softmax has been deprecated. Change the call to include dim=X as an argument.\n",
      "  out = F.softmax(h)\n"
     ]
    },
    {
     "name": "stdout",
     "output_type": "stream",
     "text": [
      " Train Epoch: 0 [57664/60000 (96%)]\tLoss: 4.856697\n",
      " Train Epoch: 1 [57664/60000 (96%)]\tLoss: 4.841415\n",
      " Train Epoch: 2 [57664/60000 (96%)]\tLoss: 4.778615\n",
      " Train Epoch: 3 [57664/60000 (96%)]\tLoss: 4.761837\n",
      " Train Epoch: 4 [57664/60000 (96%)]\tLoss: 4.757173\n",
      " Train Epoch: 5 [57664/60000 (96%)]\tLoss: 4.790073\n",
      " Train Epoch: 6 [57664/60000 (96%)]\tLoss: 4.814324\n",
      " Train Epoch: 7 [57664/60000 (96%)]\tLoss: 4.788912\n",
      " Train Epoch: 8 [57664/60000 (96%)]\tLoss: 4.818263\n",
      " Train Epoch: 9 [57664/60000 (96%)]\tLoss: 4.804187\n",
      " Train Epoch: 10 [57664/60000 (96%)]\tLoss: 4.747469\n",
      " Train Epoch: 11 [57664/60000 (96%)]\tLoss: 4.837744\n",
      " Train Epoch: 12 [57664/60000 (96%)]\tLoss: 4.821943\n",
      " Train Epoch: 13 [57664/60000 (96%)]\tLoss: 4.808532\n",
      " Train Epoch: 14 [57664/60000 (96%)]\tLoss: 4.790094\n"
     ]
    }
   ],
   "source": [
    "model0.train()\n",
    "\n",
    "losses = []\n",
    "for epoch in range(15):\n",
    "    for batch_idx, (data, target) in enumerate(train_loader):\n",
    "        # Get Samples\n",
    "        data, target = Variable(data.cuda()), Variable(target.cuda())\n",
    "        \n",
    "        # Init\n",
    "        optimizer.zero_grad()\n",
    "\n",
    "        # Predict\n",
    "        y_pred = model0(data) \n",
    "\n",
    "        # Calculate loss\n",
    "        loss = F.cross_entropy(y_pred, target)\n",
    "        \n",
    "        #print(loss)\n",
    "        tmp = loss.item()\n",
    "        losses.append(tmp)\n",
    "        # Backpropagation\n",
    "        loss.backward()\n",
    "        optimizer.step()\n",
    "        \n",
    "        \n",
    "        # Display\n",
    "        if batch_idx % 100 == 1:\n",
    "            print('\\r Train Epoch: {} [{}/{} ({:.0f}%)]\\tLoss: {:.6f}'.format(\n",
    "                epoch, \n",
    "                batch_idx * len(data), \n",
    "                len(train_loader.dataset),\n",
    "                100. * batch_idx / len(train_loader), \n",
    "                loss.item()), \n",
    "                end='')\n",
    "            \n",
    "    print()"
   ]
  },
  {
   "cell_type": "code",
   "execution_count": 29,
   "metadata": {},
   "outputs": [
    {
     "data": {
      "text/plain": [
       "Text(0, 0.5, 'cross entropy loss')"
      ]
     },
     "execution_count": 29,
     "metadata": {},
     "output_type": "execute_result"
    },
    {
     "data": {
      "image/png": "[encoded data removed]",
      "text/plain": [
       "<Figure size 432x288 with 1 Axes>"
      ]
     },
     "metadata": {
      "needs_background": "light"
     },
     "output_type": "display_data"
    }
   ],
   "source": [
    "plt.plot(losses)\n",
    "\n",
    "plt.title(\"Learning curve (0-init)\")\n",
    "plt.xlabel(\"Iterations\")\n",
    "plt.ylabel(\"cross entropy loss\")"
   ]
  },
  {
   "cell_type": "code",
   "execution_count": 28,
   "metadata": {},
   "outputs": [
    {
     "name": "stderr",
     "output_type": "stream",
     "text": [
      "C:\\Users\\46145\\anaconda3\\lib\\site-packages\\torchvision\\datasets\\mnist.py:67: UserWarning: test_data has been renamed data\n",
      "  warnings.warn(\"test_data has been renamed data\")\n",
      "C:\\Users\\46145\\anaconda3\\lib\\site-packages\\torchvision\\datasets\\mnist.py:57: UserWarning: test_labels has been renamed targets\n",
      "  warnings.warn(\"test_labels has been renamed targets\")\n",
      "C:\\Users\\46145\\anaconda3\\lib\\site-packages\\torch\\nn\\functional.py:1806: UserWarning: nn.functional.sigmoid is deprecated. Use torch.sigmoid instead.\n",
      "  warnings.warn(\"nn.functional.sigmoid is deprecated. Use torch.sigmoid instead.\")\n",
      "<ipython-input-7-6a6224c04aaa>:27: UserWarning: Implicit dimension choice for softmax has been deprecated. Change the call to include dim=X as an argument.\n",
      "  out = F.softmax(h)\n"
     ]
    },
    {
     "name": "stdout",
     "output_type": "stream",
     "text": [
      "Accuracy: tensor(0.9245)\n"
     ]
    }
   ],
   "source": [
    "evaluate_x = Variable(test_loader.dataset.test_data.type_as(torch.FloatTensor())).cuda()\n",
    "evaluate_y = Variable(test_loader.dataset.test_labels).cuda()\n",
    "\n",
    "\n",
    "output = model0(evaluate_x)\n",
    "pred = output.data.max(1)[1]\n",
    "d = pred.eq(evaluate_y.data).cpu()\n",
    "accuracy = d.sum()/d.size()[0]\n",
    "#print(d)\n",
    "print('Accuracy:', accuracy)"
   ]
  },
  {
   "cell_type": "code",
   "execution_count": 34,
   "metadata": {},
   "outputs": [],
   "source": [
    "model1 = Model()\n",
    "nn.init.uniform_(model1.fc1.weight, -1,1)\n",
    "nn.init.uniform_(model1.fc1.bias, -1,1)\n",
    "nn.init.uniform_(model1.fc2.weight, -1,1)\n",
    "nn.init.uniform_(model1.fc2.bias, -1,1)\n",
    "model1.cuda()\n",
    "optimizer = optim.Adam(model1.parameters(), lr=0.001)"
   ]
  },
  {
   "cell_type": "code",
   "execution_count": 35,
   "metadata": {
    "scrolled": true
   },
   "outputs": [
    {
     "name": "stderr",
     "output_type": "stream",
     "text": [
      "<ipython-input-7-6a6224c04aaa>:27: UserWarning: Implicit dimension choice for softmax has been deprecated. Change the call to include dim=X as an argument.\n",
      "  out = F.softmax(h)\n"
     ]
    },
    {
     "name": "stdout",
     "output_type": "stream",
     "text": [
      " Train Epoch: 0 [57664/60000 (96%)]\tLoss: 5.214955\n",
      " Train Epoch: 1 [57664/60000 (96%)]\tLoss: 5.002784\n",
      " Train Epoch: 2 [57664/60000 (96%)]\tLoss: 4.995850\n",
      " Train Epoch: 3 [57664/60000 (96%)]\tLoss: 5.019170\n",
      " Train Epoch: 4 [57664/60000 (96%)]\tLoss: 4.952178\n",
      " Train Epoch: 5 [57664/60000 (96%)]\tLoss: 4.920880\n",
      " Train Epoch: 6 [57664/60000 (96%)]\tLoss: 4.904221\n",
      " Train Epoch: 7 [57664/60000 (96%)]\tLoss: 4.944838\n",
      " Train Epoch: 8 [57664/60000 (96%)]\tLoss: 4.869237\n",
      " Train Epoch: 9 [57664/60000 (96%)]\tLoss: 4.939006\n",
      " Train Epoch: 10 [57664/60000 (96%)]\tLoss: 4.915681\n",
      " Train Epoch: 11 [57664/60000 (96%)]\tLoss: 4.873603\n",
      " Train Epoch: 12 [57664/60000 (96%)]\tLoss: 4.869504\n",
      " Train Epoch: 13 [57664/60000 (96%)]\tLoss: 4.883097\n",
      " Train Epoch: 14 [57664/60000 (96%)]\tLoss: 4.826967\n",
      " Train Epoch: 15 [57664/60000 (96%)]\tLoss: 4.895793\n",
      " Train Epoch: 16 [57664/60000 (96%)]\tLoss: 4.845425\n",
      " Train Epoch: 17 [57664/60000 (96%)]\tLoss: 4.850403\n",
      " Train Epoch: 18 [57664/60000 (96%)]\tLoss: 4.806350\n",
      " Train Epoch: 19 [57664/60000 (96%)]\tLoss: 4.821503\n",
      " Train Epoch: 20 [57664/60000 (96%)]\tLoss: 4.804598\n",
      " Train Epoch: 21 [57664/60000 (96%)]\tLoss: 4.804413\n",
      " Train Epoch: 22 [57664/60000 (96%)]\tLoss: 4.774729\n",
      " Train Epoch: 23 [57664/60000 (96%)]\tLoss: 4.757721\n",
      " Train Epoch: 24 [57664/60000 (96%)]\tLoss: 4.806079\n",
      " Train Epoch: 25 [57664/60000 (96%)]\tLoss: 4.782239\n",
      " Train Epoch: 26 [57664/60000 (96%)]\tLoss: 4.780523\n",
      " Train Epoch: 27 [57664/60000 (96%)]\tLoss: 4.817567\n",
      " Train Epoch: 28 [57664/60000 (96%)]\tLoss: 4.774581\n",
      " Train Epoch: 29 [57664/60000 (96%)]\tLoss: 4.804038\n"
     ]
    }
   ],
   "source": [
    "model1.train()\n",
    "\n",
    "losses = []\n",
    "for epoch in range(30):\n",
    "    for batch_idx, (data, target) in enumerate(train_loader):\n",
    "        # Get Samples\n",
    "        data, target = Variable(data.cuda()), Variable(target.cuda())\n",
    "        \n",
    "        # Init\n",
    "        optimizer.zero_grad()\n",
    "\n",
    "        # Predict\n",
    "        y_pred = model1(data) \n",
    "\n",
    "        # Calculate loss\n",
    "        loss = F.cross_entropy(y_pred, target)\n",
    "        \n",
    "        #print(loss)\n",
    "        tmp = loss.item()\n",
    "        losses.append(tmp)\n",
    "        # Backpropagation\n",
    "        loss.backward()\n",
    "        optimizer.step()\n",
    "        \n",
    "        \n",
    "        # Display\n",
    "        if batch_idx % 100 == 1:\n",
    "            print('\\r Train Epoch: {} [{}/{} ({:.0f}%)]\\tLoss: {:.6f}'.format(\n",
    "                epoch, \n",
    "                batch_idx * len(data), \n",
    "                len(train_loader.dataset),\n",
    "                100. * batch_idx / len(train_loader), \n",
    "                loss.item()), \n",
    "                end='')\n",
    "            \n",
    "    print()"
   ]
  },
  {
   "cell_type": "code",
   "execution_count": 36,
   "metadata": {},
   "outputs": [
    {
     "data": {
      "text/plain": [
       "Text(0, 0.5, 'cross entropy loss')"
      ]
     },
     "execution_count": 36,
     "metadata": {},
     "output_type": "execute_result"
    },
    {
     "data": {
      "image/png": "[encoded data removed]",
      "text/plain": [
       "<Figure size 432x288 with 1 Axes>"
      ]
     },
     "metadata": {
      "needs_background": "light"
     },
     "output_type": "display_data"
    }
   ],
   "source": [
    "plt.plot(losses)\n",
    "\n",
    "plt.title(\"Learning curve (uniform-init)\")\n",
    "plt.xlabel(\"Iterations\")\n",
    "plt.ylabel(\"cross entropy loss\")"
   ]
  },
  {
   "cell_type": "code",
   "execution_count": 37,
   "metadata": {},
   "outputs": [
    {
     "name": "stdout",
     "output_type": "stream",
     "text": [
      "Accuracy: tensor(0.9228)\n"
     ]
    },
    {
     "name": "stderr",
     "output_type": "stream",
     "text": [
      "C:\\Users\\46145\\anaconda3\\lib\\site-packages\\torchvision\\datasets\\mnist.py:67: UserWarning: test_data has been renamed data\n",
      "  warnings.warn(\"test_data has been renamed data\")\n",
      "C:\\Users\\46145\\anaconda3\\lib\\site-packages\\torchvision\\datasets\\mnist.py:57: UserWarning: test_labels has been renamed targets\n",
      "  warnings.warn(\"test_labels has been renamed targets\")\n",
      "<ipython-input-7-6a6224c04aaa>:27: UserWarning: Implicit dimension choice for softmax has been deprecated. Change the call to include dim=X as an argument.\n",
      "  out = F.softmax(h)\n"
     ]
    }
   ],
   "source": [
    "evaluate_x = Variable(test_loader.dataset.test_data.type_as(torch.FloatTensor())).cuda()\n",
    "evaluate_y = Variable(test_loader.dataset.test_labels).cuda()\n",
    "\n",
    "\n",
    "output = model1(evaluate_x)\n",
    "pred = output.data.max(1)[1]\n",
    "d = pred.eq(evaluate_y.data).cpu()\n",
    "accuracy = d.sum()/d.size()[0]\n",
    "#print(d)\n",
    "print('Accuracy:', accuracy)"
   ]
  },
  {
   "cell_type": "code",
   "execution_count": null,
   "metadata": {},
   "outputs": [],
   "source": []
  }
 ],
 "metadata": {
  "kernelspec": {
   "display_name": "Python 3",
   "language": "python",
   "name": "python3"
  },
  "language_info": {
   "codemirror_mode": {
    "name": "ipython",
    "version": 3
   },
   "file_extension": ".py",
   "mimetype": "text/x-python",
   "name": "python",
   "nbconvert_exporter": "python",
   "pygments_lexer": "ipython3",
   "version": "3.8.8"
  }
 },
 "nbformat": 4,
 "nbformat_minor": 2
}
