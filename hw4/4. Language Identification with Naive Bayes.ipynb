{
 "cells": [
  {
   "cell_type": "code",
   "execution_count": 59,
   "id": "1907234a",
   "metadata": {},
   "outputs": [],
   "source": [
    "import os\n",
    "import math\n",
    "import random\n",
    "from sklearn.metrics import confusion_matrix, ConfusionMatrixDisplay"
   ]
  },
  {
   "cell_type": "code",
   "execution_count": 2,
   "id": "df841037",
   "metadata": {},
   "outputs": [
    {
     "data": {
      "text/plain": [
       "60"
      ]
     },
     "execution_count": 2,
     "metadata": {},
     "output_type": "execute_result"
    }
   ],
   "source": [
    "x_train = []\n",
    "y_train = []\n",
    "for file in os.listdir(\"languageID\"):\n",
    "    with open(\"languageID/\"+file) as f:\n",
    "        y_train.append(file[0])\n",
    "        file_enc = []\n",
    "        lines = f.readlines()\n",
    "        for s in lines:\n",
    "            for char in s:\n",
    "                if char == \"\\n\":\n",
    "                    continue\n",
    "                file_enc.append(char)\n",
    "        x_train.append(file_enc)\n",
    "len(x_train)"
   ]
  },
  {
   "cell_type": "code",
   "execution_count": 3,
   "id": "f8cbb306",
   "metadata": {},
   "outputs": [],
   "source": [
    "x_train_1 = x_train[:10] + x_train[20:30] + x_train[40:50]\n",
    "y_train_1 = y_train[:10] + y_train[20:30] + y_train[40:50]"
   ]
  },
  {
   "cell_type": "code",
   "execution_count": 4,
   "id": "94b61295",
   "metadata": {},
   "outputs": [],
   "source": [
    "def prior_prob(label, x, y, alpha):\n",
    "    count = 0\n",
    "    for i in range(len(x)):\n",
    "        if y[i] == label:\n",
    "            count += 1\n",
    "    return (count+alpha)/(len(x)+3*alpha)        "
   ]
  },
  {
   "cell_type": "code",
   "execution_count": 5,
   "id": "08bd9db1",
   "metadata": {},
   "outputs": [
    {
     "name": "stdout",
     "output_type": "stream",
     "text": [
      "0.3333333333333333\n",
      "0.3333333333333333\n",
      "0.3333333333333333\n"
     ]
    }
   ],
   "source": [
    "#q4.1\n",
    "print(prior_prob(\"e\", x_train_1, y_train_1, 0.5))\n",
    "print(prior_prob(\"j\", x_train_1, y_train_1, 0.5))\n",
    "print(prior_prob(\"s\", x_train_1, y_train_1, 0.5))"
   ]
  },
  {
   "cell_type": "code",
   "execution_count": 6,
   "id": "137ec8c2",
   "metadata": {},
   "outputs": [],
   "source": [
    "def cond_prob(char, label, x, y, alpha):\n",
    "    count_x = 0\n",
    "    count_y = 0\n",
    "    for i in range(len(x)):\n",
    "        if y[i] == label:\n",
    "            count_y += len(x[i])\n",
    "            for c in x[i]:\n",
    "                if c == char:\n",
    "                    count_x += 1\n",
    "    return (count_x+alpha)/(count_y+3*alpha) "
   ]
  },
  {
   "cell_type": "code",
   "execution_count": 7,
   "id": "3519876c",
   "metadata": {},
   "outputs": [
    {
     "name": "stdout",
     "output_type": "stream",
     "text": [
      "[0.06164400403255551, 0.01202390026801741, 0.0216626914849148, 0.02195775652216676, 0.10752661732523544, 0.020187366298654995, 0.014482775578450418, 0.047874302294130665, 0.052447810371536056, 0.000614718827608252, 0.004303031793257764, 0.03105559517076889, 0.022793774127713985, 0.05598859081855959, 0.06636504462858689, 0.01551550320883228, 0.0007622513462342325, 0.04880867491209521, 0.06228331161326809, 0.0868228872113895, 0.02500676190710369, 0.00897489488308048, 0.016154810789544862, 0.0010573163834861935, 0.013450047948068554, 0.0005163638151909316, 0.18030932651405246]\n"
     ]
    }
   ],
   "source": [
    "#q4.2\n",
    "theta_e = []\n",
    "for i in [chr(x) for x in range(ord('a'), ord('z')+1)]+[\" \"]:\n",
    "    theta_e.append(cond_prob(i, \"e\",  x_train_1, y_train_1, 0.5))\n",
    "print(theta_e)"
   ]
  },
  {
   "cell_type": "code",
   "execution_count": 8,
   "id": "3f078e50",
   "metadata": {},
   "outputs": [
    {
     "name": "stdout",
     "output_type": "stream",
     "text": [
      "[0.13178294573643412, 0.009117918246081344, 0.005702967592118294, 0.015947819554007446, 0.06000068299013079, 0.0032442031212648976, 0.016152716593245228, 0.031178499470682648, 0.10043369873305331, 0.0022880169381552435, 0.05706382542772257, 0.0009220366765700235, 0.04121845439333402, 0.05603934023153365, 0.0899156507188471, 0.0009903356896492845, 3.41495065396305e-05, 0.04347232182494963, 0.04155994945873032, 0.059454290885496704, 0.06922104975583103, 0.0001707475326981525, 0.020523853430317932, 3.41495065396305e-05, 0.014103746200867398, 0.007410442919099819, 0.12283577502305092]\n",
      "[0.10355135328329597, 0.010299899275432954, 0.03648828670760633, 0.04220684277220002, 0.11498846541248335, 0.007245670468206778, 0.006725801735061897, 0.004971244760697924, 0.05032979172758879, 0.006400883776846346, 0.0002274425707508854, 0.05110959482730611, 0.02446632225363096, 0.05572342983396692, 0.0703447379536667, 0.025116158170062058, 0.008090457159567209, 0.05780290476654645, 0.06768041069629918, 0.03505864769145791, 0.036293335932677, 0.005881015043701465, 0.00035740975403710564, 0.002306917503330409, 0.005881015043701465, 0.003996490886051272, 0.16723527309354388]\n"
     ]
    }
   ],
   "source": [
    "#q4.3\n",
    "theta_j = []\n",
    "theta_s = []\n",
    "for i in [chr(x) for x in range(ord('a'), ord('z')+1)]+[\" \"]:\n",
    "    theta_j.append(cond_prob(i, \"j\",  x_train_1, y_train_1, 0.5))\n",
    "    theta_s.append(cond_prob(i, \"s\",  x_train_1, y_train_1, 0.5))\n",
    "print(theta_j)\n",
    "print(theta_s)"
   ]
  },
  {
   "cell_type": "code",
   "execution_count": 44,
   "id": "61828128",
   "metadata": {},
   "outputs": [
    {
     "name": "stdout",
     "output_type": "stream",
     "text": [
      "[126, 16, 31, 37, 166, 32, 21, 57, 98, 0, 7, 57, 43, 100, 90, 29, 0, 84, 105, 118, 46, 15, 24, 3, 23, 1, 302]\n"
     ]
    }
   ],
   "source": [
    "#q4.4\n",
    "x10 = x_train[10]\n",
    "x = [0]*27\n",
    "for char in x10:\n",
    "    if char == ' ':\n",
    "        x[26] += 1\n",
    "        continue\n",
    "    x[ord(char)-ord('a')] += 1\n",
    "print(x)"
   ]
  },
  {
   "cell_type": "code",
   "execution_count": 12,
   "id": "54647ff7",
   "metadata": {},
   "outputs": [],
   "source": [
    "def inference(bag, theta):\n",
    "    logp = 0\n",
    "    for i in range(len(bag)):\n",
    "        #print(math.log(theta[i]))\n",
    "        logp += bag[i] * math.log(theta[i])\n",
    "    return logp"
   ]
  },
  {
   "cell_type": "code",
   "execution_count": 13,
   "id": "234db9d1",
   "metadata": {},
   "outputs": [
    {
     "name": "stdout",
     "output_type": "stream",
     "text": [
      "Conditional probability under English is e^-4597.373906033782\n",
      "Conditional probability under Japanese is e^-5108.565737840508\n",
      "Conditional probability under Spanish is e^-4837.575393381252\n"
     ]
    }
   ],
   "source": [
    "#q4.5\n",
    "print(\"Conditional probability under English is e^\"+str(inference(x,theta_e)))\n",
    "print(\"Conditional probability under Japanese is e^\"+str(inference(x,theta_j)))\n",
    "print(\"Conditional probability under Spanish is e^\"+str(inference(x,theta_s)))"
   ]
  },
  {
   "cell_type": "code",
   "execution_count": 26,
   "id": "33d6751c",
   "metadata": {},
   "outputs": [],
   "source": [
    "def NaiveBayes(x,y):\n",
    "    #apporx log(p(x)) = (logp1+logp2+logp3)/3 since x is small\n",
    "    logpxe = inference(x,theta_e)\n",
    "    logpxj = inference(x,theta_j)\n",
    "    logpxs = inference(x,theta_s)\n",
    "    logpx = logpxj - math.log(3) + math.log(1+math.exp(logpxe-logpxj)+math.exp(logpxs-logpxj))\n",
    "    if y == \"e\":\n",
    "        logpyx = logpxe + math.log(1/3) - logpx\n",
    "        return logpyx\n",
    "    elif y == \"j\":\n",
    "        logpyj = logpxj + math.log(1/3) - logpx\n",
    "        return logpyj\n",
    "    elif y == \"s\":\n",
    "        logpys = logpxs + math.log(1/3) - logpx\n",
    "        return logpys"
   ]
  },
  {
   "cell_type": "code",
   "execution_count": 41,
   "id": "2062167e",
   "metadata": {},
   "outputs": [],
   "source": [
    "def NaiveBayes_cons(x,y):\n",
    "    #apporx log(p(x)) = (logp1+logp2+logp3)/3 since x is small\n",
    "    logpxe = inference(x,theta_e)\n",
    "    logpxj = inference(x,theta_j)\n",
    "    logpxs = inference(x,theta_s)\n",
    "    if y == \"e\":\n",
    "        logpyx = logpxe + math.log(1/3)\n",
    "        return logpyx\n",
    "    elif y == \"j\":\n",
    "        logpyj = logpxj + math.log(1/3)\n",
    "        return logpyj\n",
    "    elif y == \"s\":\n",
    "        logpys = logpxs + math.log(1/3)\n",
    "        return logpys"
   ]
  },
  {
   "cell_type": "code",
   "execution_count": 42,
   "id": "e9c5434c",
   "metadata": {},
   "outputs": [],
   "source": [
    "def predict(x):\n",
    "    pred = None\n",
    "    best = None\n",
    "    for y in [\"e\",\"j\",\"s\"]:\n",
    "        if best == None or NaiveBayes_cons(x,y) > best:\n",
    "            best = NaiveBayes_cons(x,y)\n",
    "            pred = y\n",
    "    return pred"
   ]
  },
  {
   "cell_type": "code",
   "execution_count": 45,
   "id": "ebf1a9ef",
   "metadata": {},
   "outputs": [
    {
     "name": "stdout",
     "output_type": "stream",
     "text": [
      "p(y=e|x) = e^0.0\n",
      "p(y=j|x) = e^-511.19183180672553\n",
      "p(y=s|x) = e^-240.20148734747\n",
      "Our prediction is y=e\n"
     ]
    }
   ],
   "source": [
    "#q4.6\n",
    "for y in [\"e\",\"j\",\"s\"]:\n",
    "    print(\"p(y=\"+y+\"|x) = e^\"+str(NaiveBayes(x,y)))\n",
    "print(\"Our prediction is y=\" + predict(x))"
   ]
  },
  {
   "cell_type": "code",
   "execution_count": 37,
   "id": "9eabd70e",
   "metadata": {},
   "outputs": [],
   "source": [
    "x_test = x_train[10:20] + x_train[30:40] + x_train[50:60]\n",
    "y_test = y_train[10:20] + y_train[30:40] + y_train[50:60]"
   ]
  },
  {
   "cell_type": "code",
   "execution_count": 58,
   "id": "6fa555f8",
   "metadata": {},
   "outputs": [
    {
     "data": {
      "text/plain": [
       "<sklearn.metrics._plot.confusion_matrix.ConfusionMatrixDisplay at 0x1cc02e9a250>"
      ]
     },
     "execution_count": 58,
     "metadata": {},
     "output_type": "execute_result"
    },
    {
     "data": {
      "image/png": "[encoded data removed]",
      "text/plain": [
       "<Figure size 432x288 with 2 Axes>"
      ]
     },
     "metadata": {
      "needs_background": "light"
     },
     "output_type": "display_data"
    }
   ],
   "source": [
    "#q4.7\n",
    "predict_list = []\n",
    "for test in x_test:\n",
    "    x_tmp = [0]*27\n",
    "    for char in test:\n",
    "        if char == ' ':\n",
    "            x_tmp[26] += 1\n",
    "            continue\n",
    "        x_tmp[ord(char)-ord('a')] += 1\n",
    "    predict_list.append(predict(x_tmp))\n",
    "disp = ConfusionMatrixDisplay(confusion_matrix=confusion_matrix(y_test, predict_list, labels=[\"e\", \"j\", \"s\"]),display_labels= [\"e\", \"j\", \"s\"])\n",
    "disp.plot()"
   ]
  },
  {
   "cell_type": "code",
   "execution_count": 67,
   "id": "06e7ef68",
   "metadata": {},
   "outputs": [
    {
     "name": "stdout",
     "output_type": "stream",
     "text": [
      "e\n",
      "e\n",
      "Shuffling does not affect our prediction. Because we are computing the 'bag-of-characters' vecter, which is free of the order of letters.\n"
     ]
    }
   ],
   "source": [
    "#q4.8\n",
    "shuffle_test = x_train[10]\n",
    "random.shuffle(x_train[10])\n",
    "x_shuffle = [0]*27\n",
    "for char in shuffle_test:\n",
    "    if char == ' ':\n",
    "        x_shuffle[26] += 1\n",
    "        continue\n",
    "    x_shuffle[ord(char)-ord('a')] += 1\n",
    "print(predict(x_shuffle))\n",
    "print(predict(x))\n",
    "print(\"Shuffling does not affect our prediction. Because we are computing the 'bag-of-characters' vecter, which is free of the order of letters.\")"
   ]
  },
  {
   "cell_type": "code",
   "execution_count": null,
   "id": "7cabc8c9",
   "metadata": {},
   "outputs": [],
   "source": []
  }
 ],
 "metadata": {
  "kernelspec": {
   "display_name": "Python 3",
   "language": "python",
   "name": "python3"
  },
  "language_info": {
   "codemirror_mode": {
    "name": "ipython",
    "version": 3
   },
   "file_extension": ".py",
   "mimetype": "text/x-python",
   "name": "python",
   "nbconvert_exporter": "python",
   "pygments_lexer": "ipython3",
   "version": "3.8.8"
  }
 },
 "nbformat": 4,
 "nbformat_minor": 5
}
