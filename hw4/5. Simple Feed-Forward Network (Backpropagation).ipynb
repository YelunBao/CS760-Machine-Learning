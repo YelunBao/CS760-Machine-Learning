{
 "cells": [
  {
   "cell_type": "code",
   "execution_count": 1,
   "metadata": {},
   "outputs": [
    {
     "name": "stdout",
     "output_type": "stream",
     "text": [
      "Populating the interactive namespace from numpy and matplotlib\n"
     ]
    }
   ],
   "source": [
    "%pylab inline\n",
    "import numpy as np\n",
    "import torch\n",
    "import torch.nn as nn\n",
    "import torch.nn.functional as F\n",
    "import torch.utils.data.dataloader as dataloader\n",
    "import torch.optim as optim\n",
    "\n",
    "from torch.utils.data import TensorDataset\n",
    "from torch.autograd import Variable\n",
    "from torchvision import transforms\n",
    "from torchvision.datasets import MNIST"
   ]
  },
  {
   "cell_type": "code",
   "execution_count": 2,
   "metadata": {},
   "outputs": [],
   "source": [
    "train = MNIST('./data', train=True, download=True, transform=transforms.Compose([\n",
    "    transforms.ToTensor(), # ToTensor does min-max normalization. \n",
    "]), )\n",
    "\n",
    "test = MNIST('./data', train=False, download=True, transform=transforms.Compose([\n",
    "    transforms.ToTensor(), # ToTensor does min-max normalization. \n",
    "]), )\n",
    "\n",
    "# Create DataLoader\n",
    "dataloader_args = dict(shuffle=True, batch_size=16,num_workers=1, pin_memory=True)\n",
    "train_loader = dataloader.DataLoader(train, **dataloader_args)\n",
    "test_loader = dataloader.DataLoader(test, **dataloader_args)"
   ]
  },
  {
   "cell_type": "code",
   "execution_count": 36,
   "metadata": {},
   "outputs": [
    {
     "name": "stderr",
     "output_type": "stream",
     "text": [
      "C:\\Users\\46145\\anaconda3\\lib\\site-packages\\torchvision\\datasets\\mnist.py:62: UserWarning: train_data has been renamed data\n",
      "  warnings.warn(\"train_data has been renamed data\")\n"
     ]
    },
    {
     "name": "stdout",
     "output_type": "stream",
     "text": [
      "[Train]\n",
      " - Numpy Shape: (60000, 28, 28)\n",
      " - Tensor Shape: torch.Size([60000, 28, 28])\n",
      " - Transformed Shape: torch.Size([28, 60000, 28])\n",
      " - min: tensor(0.)\n",
      " - max: tensor(1.)\n",
      " - mean: tensor(0.1307)\n",
      " - std: tensor(0.3081)\n",
      " - var: tensor(0.0949)\n"
     ]
    }
   ],
   "source": [
    "train_data = train.train_data\n",
    "train_data = train.transform(train_data.numpy())\n",
    "\n",
    "print('[Train]')\n",
    "print(' - Numpy Shape:', train.train_data.cpu().numpy().shape)\n",
    "print(' - Tensor Shape:', train.train_data.size())\n",
    "print(' - Transformed Shape:', train_data.size())\n",
    "print(' - min:', torch.min(train_data))\n",
    "print(' - max:', torch.max(train_data))\n",
    "print(' - mean:', torch.mean(train_data))\n",
    "print(' - std:', torch.std(train_data))\n",
    "print(' - var:', torch.var(train_data))"
   ]
  },
  {
   "cell_type": "code",
   "execution_count": 3,
   "metadata": {},
   "outputs": [],
   "source": [
    "def sigmoid(x):\n",
    "    return 1 / (1 + np.exp(-x))\n",
    "def sigmoid_cond(x):\n",
    "    return x*(1-x)\n",
    "sigmoid_v = np.vectorize(sigmoid)\n",
    "sigmoid_d = np.vectorize(sigmoid_cond)"
   ]
  },
  {
   "cell_type": "code",
   "execution_count": 4,
   "metadata": {},
   "outputs": [],
   "source": [
    "def n2l(y):\n",
    "    yc = [0]*10\n",
    "    yc[y] = 1\n",
    "    return yc"
   ]
  },
  {
   "cell_type": "code",
   "execution_count": 5,
   "metadata": {},
   "outputs": [],
   "source": [
    "def celoss(pred, y):\n",
    "    entropy = 0\n",
    "    for i in range(len(y)):\n",
    "        entropy -= y[i]*np.log(pred[i])\n",
    "    return entropy"
   ]
  },
  {
   "cell_type": "code",
   "execution_count": 6,
   "metadata": {},
   "outputs": [],
   "source": [
    "def inference(W1, W2, x_input):\n",
    "    x = x_input.reshape(-1)\n",
    "    h = W1.dot(x)\n",
    "    sh = sigmoid_v(h)\n",
    "    z = W2.dot(sh)\n",
    "    y = np.exp(z)/sum(np.exp(z))\n",
    "    return y"
   ]
  },
  {
   "cell_type": "code",
   "execution_count": 7,
   "metadata": {},
   "outputs": [],
   "source": [
    "d = 28 * 28\n",
    "d1 = 300"
   ]
  },
  {
   "cell_type": "code",
   "execution_count": 12,
   "metadata": {},
   "outputs": [
    {
     "name": "stdout",
     "output_type": "stream",
     "text": [
      " Train Epoch: 0 [59216/60000 (99%)]\tLoss: 2.297401\n",
      " Train Epoch: 1 [59216/60000 (99%)]\tLoss: 2.265862\n",
      " Train Epoch: 2 [59216/60000 (99%)]\tLoss: 2.159642\n",
      " Train Epoch: 3 [59216/60000 (99%)]\tLoss: 2.101860\n",
      " Train Epoch: 4 [59216/60000 (99%)]\tLoss: 1.898080\n",
      " Train Epoch: 5 [59216/60000 (99%)]\tLoss: 1.540202\n",
      " Train Epoch: 6 [59216/60000 (99%)]\tLoss: 1.318016\n",
      " Train Epoch: 7 [59216/60000 (99%)]\tLoss: 1.318964\n",
      " Train Epoch: 8 [59216/60000 (99%)]\tLoss: 1.122175\n",
      " Train Epoch: 9 [59216/60000 (99%)]\tLoss: 0.853958\n",
      " Train Epoch: 10 [59216/60000 (99%)]\tLoss: 0.879154\n",
      " Train Epoch: 11 [59216/60000 (99%)]\tLoss: 0.738527\n",
      " Train Epoch: 12 [59216/60000 (99%)]\tLoss: 0.721422\n",
      " Train Epoch: 13 [59216/60000 (99%)]\tLoss: 0.838231\n",
      " Train Epoch: 14 [59216/60000 (99%)]\tLoss: 0.390907\n"
     ]
    }
   ],
   "source": [
    "losses = []\n",
    "losses0 = []\n",
    "W1 = (np.random.rand(d1, d)-0.5)/28\n",
    "W2 = (np.random.rand(10, d1)-0.5)/28\n",
    "for epoch in range(15):\n",
    "    for batch_idx, (data, target) in enumerate(train_loader):\n",
    "        # Get Samples\n",
    "        loss_list = []\n",
    "        x_batch = data.numpy()\n",
    "        y_batch = target.numpy()\n",
    "\n",
    "        g1list = []\n",
    "        g2list = []\n",
    "        for m in range(len(x_batch)):\n",
    "            yl = y_batch[m]\n",
    "            grad1 = np.zeros((d1, d))\n",
    "            grad2 = np.zeros((10, d1))\n",
    "            #forward\n",
    "            x = x_batch[m].reshape(-1)\n",
    "            h = W1.dot(x)\n",
    "            sh = sigmoid_v(h)\n",
    "            gsh = sigmoid_d(sh)\n",
    "            z = W2.dot(sh)\n",
    "            y = np.exp(z)/sum(np.exp(z))\n",
    "\n",
    "            #loss\n",
    "            loss = -np.log(y[yl])\n",
    "            yc = n2l(yl)\n",
    "            loss_list.append(loss)\n",
    "            #losses0.append(loss)\n",
    "\n",
    "            #backpropagation\n",
    "            gw2 = np.outer(y, sh) - np.outer(yc, sh)\n",
    "            itn = (W2.transpose().dot(y) - W2[yl])*gsh\n",
    "            gw1 = np.outer(itn, x)\n",
    "            \n",
    "            g1list.append(gw1)\n",
    "            g2list.append(gw2)\n",
    "            #print(g1list)\n",
    "        W1 -= 0.001/16*np.add.reduce(g1list)\n",
    "        W2 -= 0.001/16*np.add.reduce(g2list)\n",
    "        avg_loss = sum(loss_list)/len(loss_list)\n",
    "        #print(avg_loss)\n",
    "        losses.append(avg_loss)\n",
    "        \n",
    "        if batch_idx % 100 == 1:\n",
    "            print('\\r Train Epoch: {} [{}/{} ({:.0f}%)]\\tLoss: {:.6f}'.format(\n",
    "                epoch, \n",
    "                batch_idx * len(data), \n",
    "                len(train_loader.dataset),\n",
    "                100. * batch_idx / len(train_loader), \n",
    "                avg_loss), \n",
    "                end='')\n",
    "            \n",
    "    print()"
   ]
  },
  {
   "cell_type": "code",
   "execution_count": 14,
   "metadata": {
    "scrolled": true
   },
   "outputs": [
    {
     "data": {
      "text/plain": [
       "Text(0, 0.5, 'cross entropy loss')"
      ]
     },
     "execution_count": 14,
     "metadata": {},
     "output_type": "execute_result"
    },
    {
     "data": {
      "image/png": "[encoded data removed]",
      "text/plain": [
       "<Figure size 432x288 with 1 Axes>"
      ]
     },
     "metadata": {
      "needs_background": "light"
     },
     "output_type": "display_data"
    }
   ],
   "source": [
    "plt.plot(losses)\n",
    "\n",
    "plt.title(\"Learning curve\")\n",
    "plt.xlabel(\"Iterations\")\n",
    "plt.ylabel(\"cross entropy loss\")"
   ]
  },
  {
   "cell_type": "code",
   "execution_count": 15,
   "metadata": {
    "scrolled": true
   },
   "outputs": [
    {
     "name": "stderr",
     "output_type": "stream",
     "text": [
      "C:\\Users\\46145\\anaconda3\\lib\\site-packages\\torchvision\\datasets\\mnist.py:67: UserWarning: test_data has been renamed data\n",
      "  warnings.warn(\"test_data has been renamed data\")\n",
      "C:\\Users\\46145\\anaconda3\\lib\\site-packages\\torchvision\\datasets\\mnist.py:57: UserWarning: test_labels has been renamed targets\n",
      "  warnings.warn(\"test_labels has been renamed targets\")\n"
     ]
    }
   ],
   "source": [
    "evaluate_x = Variable(test_loader.dataset.test_data.type_as(torch.FloatTensor()))\n",
    "evaluate_y = Variable(test_loader.dataset.test_labels)\n"
   ]
  },
  {
   "cell_type": "code",
   "execution_count": 16,
   "metadata": {},
   "outputs": [
    {
     "name": "stderr",
     "output_type": "stream",
     "text": [
      "<ipython-input-3-bee2fed0bf3a>:2: RuntimeWarning: overflow encountered in exp\n",
      "  return 1 / (1 + np.exp(-x))\n"
     ]
    },
    {
     "data": {
      "text/plain": [
       "0.7983"
      ]
     },
     "execution_count": 16,
     "metadata": {},
     "output_type": "execute_result"
    }
   ],
   "source": [
    "count = 0\n",
    "test_x = evaluate_x.numpy()\n",
    "test_y = evaluate_y.numpy()\n",
    "for i in range(len(test_x)):\n",
    "    y_pred = inference(W1, W2, test_x[i])\n",
    "    pred = np.argmax(y_pred)\n",
    "    if test_y[i] == pred:\n",
    "        count += 1\n",
    "accuracy = count/len(test_x)\n",
    "accuracy"
   ]
  },
  {
   "cell_type": "code",
   "execution_count": 18,
   "metadata": {},
   "outputs": [
    {
     "name": "stdout",
     "output_type": "stream",
     "text": [
      " Train Epoch: 15 [59216/60000 (99%)]\tLoss: 0.523165\n",
      " Train Epoch: 16 [59216/60000 (99%)]\tLoss: 0.654530\n",
      " Train Epoch: 17 [59216/60000 (99%)]\tLoss: 0.390712\n",
      " Train Epoch: 18 [59216/60000 (99%)]\tLoss: 0.658601\n",
      " Train Epoch: 19 [59216/60000 (99%)]\tLoss: 0.354551\n",
      " Train Epoch: 20 [59216/60000 (99%)]\tLoss: 0.554946\n",
      " Train Epoch: 21 [59216/60000 (99%)]\tLoss: 0.491406\n",
      " Train Epoch: 22 [59216/60000 (99%)]\tLoss: 0.429852\n",
      " Train Epoch: 23 [59216/60000 (99%)]\tLoss: 0.456510\n",
      " Train Epoch: 24 [59216/60000 (99%)]\tLoss: 0.511683\n",
      " Train Epoch: 25 [59216/60000 (99%)]\tLoss: 0.981498\n",
      " Train Epoch: 26 [59216/60000 (99%)]\tLoss: 0.393872\n",
      " Train Epoch: 27 [59216/60000 (99%)]\tLoss: 0.275075\n",
      " Train Epoch: 28 [59216/60000 (99%)]\tLoss: 0.422048\n",
      " Train Epoch: 29 [59216/60000 (99%)]\tLoss: 0.472818\n"
     ]
    }
   ],
   "source": [
    "for epoch in range(15,30):\n",
    "    for batch_idx, (data, target) in enumerate(train_loader):\n",
    "        # Get Samples\n",
    "        loss_list = []\n",
    "        x_batch = data.numpy()\n",
    "        y_batch = target.numpy()\n",
    "\n",
    "        g1list = []\n",
    "        g2list = []\n",
    "        for m in range(len(x_batch)):\n",
    "            yl = y_batch[m]\n",
    "            grad1 = np.zeros((d1, d))\n",
    "            grad2 = np.zeros((10, d1))\n",
    "            #forward\n",
    "            x = x_batch[m].reshape(-1)\n",
    "            h = W1.dot(x)\n",
    "            sh = sigmoid_v(h)\n",
    "            gsh = sigmoid_d(sh)\n",
    "            z = W2.dot(sh)\n",
    "            y = np.exp(z)/sum(np.exp(z))\n",
    "\n",
    "            #loss\n",
    "            loss = -np.log(y[yl])\n",
    "            yc = n2l(yl)\n",
    "            loss_list.append(loss)\n",
    "            #losses0.append(loss)\n",
    "\n",
    "            #backpropagation\n",
    "            gw2 = np.outer(y, sh) - np.outer(yc, sh)\n",
    "            itn = (W2.transpose().dot(y) - W2[yl])*gsh\n",
    "            gw1 = np.outer(itn, x)\n",
    "            \n",
    "            g1list.append(gw1)\n",
    "            g2list.append(gw2)\n",
    "            #print(g1list)\n",
    "        W1 -= 0.0001/16*np.add.reduce(g1list)\n",
    "        W2 -= 0.0001/16*np.add.reduce(g2list)\n",
    "        avg_loss = sum(loss_list)/len(loss_list)\n",
    "        #print(avg_loss)\n",
    "        losses.append(avg_loss)\n",
    "        \n",
    "        if batch_idx % 100 == 1:\n",
    "            print('\\r Train Epoch: {} [{}/{} ({:.0f}%)]\\tLoss: {:.6f}'.format(\n",
    "                epoch, \n",
    "                batch_idx * len(data), \n",
    "                len(train_loader.dataset),\n",
    "                100. * batch_idx / len(train_loader), \n",
    "                avg_loss), \n",
    "                end='')\n",
    "            \n",
    "    print()"
   ]
  },
  {
   "cell_type": "code",
   "execution_count": 19,
   "metadata": {},
   "outputs": [
    {
     "data": {
      "text/plain": [
       "Text(0, 0.5, 'cross entropy loss')"
      ]
     },
     "execution_count": 19,
     "metadata": {},
     "output_type": "execute_result"
    },
    {
     "data": {
      "image/png": "[encoded data removed]",
      "text/plain": [
       "<Figure size 432x288 with 1 Axes>"
      ]
     },
     "metadata": {
      "needs_background": "light"
     },
     "output_type": "display_data"
    }
   ],
   "source": [
    "plt.plot(losses)\n",
    "\n",
    "plt.title(\"Learning curve\")\n",
    "plt.xlabel(\"Iterations\")\n",
    "plt.ylabel(\"cross entropy loss\")"
   ]
  },
  {
   "cell_type": "code",
   "execution_count": 20,
   "metadata": {},
   "outputs": [
    {
     "name": "stderr",
     "output_type": "stream",
     "text": [
      "<ipython-input-3-bee2fed0bf3a>:2: RuntimeWarning: overflow encountered in exp\n",
      "  return 1 / (1 + np.exp(-x))\n"
     ]
    },
    {
     "data": {
      "text/plain": [
       "0.8124"
      ]
     },
     "execution_count": 20,
     "metadata": {},
     "output_type": "execute_result"
    }
   ],
   "source": [
    "count = 0\n",
    "test_x = evaluate_x.numpy()\n",
    "test_y = evaluate_y.numpy()\n",
    "for i in range(len(test_x)):\n",
    "    y_pred = inference(W1, W2, test_x[i])\n",
    "    pred = np.argmax(y_pred)\n",
    "    if test_y[i] == pred:\n",
    "        count += 1\n",
    "accuracy = count/len(test_x)\n",
    "accuracy"
   ]
  },
  {
   "cell_type": "code",
   "execution_count": null,
   "metadata": {},
   "outputs": [],
   "source": []
  },
  {
   "cell_type": "code",
   "execution_count": null,
   "metadata": {},
   "outputs": [],
   "source": []
  }
 ],
 "metadata": {
  "kernelspec": {
   "display_name": "Python 3",
   "language": "python",
   "name": "python3"
  },
  "language_info": {
   "codemirror_mode": {
    "name": "ipython",
    "version": 3
   },
   "file_extension": ".py",
   "mimetype": "text/x-python",
   "name": "python",
   "nbconvert_exporter": "python",
   "pygments_lexer": "ipython3",
   "version": "3.8.8"
  }
 },
 "nbformat": 4,
 "nbformat_minor": 2
}
